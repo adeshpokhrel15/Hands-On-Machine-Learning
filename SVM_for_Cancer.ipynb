{
  "nbformat": 4,
  "nbformat_minor": 0,
  "metadata": {
    "colab": {
      "name": "SVM_for_Cancer.ipynb",
      "provenance": []
    },
    "kernelspec": {
      "name": "python3",
      "display_name": "Python 3"
    },
    "language_info": {
      "name": "python"
    }
  },
  "cells": [
    {
      "cell_type": "code",
      "metadata": {
        "id": "hc9kQDpa9TEy"
      },
      "source": [
        "'''Used SVM to build and train a model using human cell records, and classify cells to whether the samples are benign (mild state) or malignant (evil state).\n",
        "\n",
        "SVM works by mapping data to a high-dimensional feature space so that data points can be categorized,\n",
        " even when the data are not otherwise linearly separable (This gets done by kernel function of SVM classifier). \n",
        " A separator between the categories is found, then the data is transformed in such a way that the separator could be drawn as a hyperplane.\n"
      ],
      "execution_count": 1,
      "outputs": []
    },
    {
      "cell_type": "code",
      "metadata": {
        "id": "aq9vXlYL_4_7"
      },
      "source": [
        "#importing the library\n",
        "import sklearn\n",
        "import numpy as np\n",
        "import pandas as pd\n",
        "import plotly as plot\n",
        "import plotly.express as px\n",
        "import plotly.graph_objs as go\n",
        "\n",
        "import cufflinks as cf\n",
        "import matplotlib.pyplot as plt\n",
        "import seaborn as sns\n",
        "import os\n",
        "from sklearn.metrics import accuracy_score,mean_squared_error\n",
        "import plotly.offline as pyo\n",
        "from plotly.offline import init_notebook_mode,plot,iplot"
      ],
      "execution_count": 107,
      "outputs": []
    },
    {
      "cell_type": "code",
      "metadata": {
        "colab": {
          "base_uri": "https://localhost:8080/",
          "height": 439
        },
        "id": "BAXmUhE5Aq8o",
        "outputId": "b1f6ebbf-c58a-4d4f-c98f-2b89ff9e91c3"
      },
      "source": [
        "cell=pd.read_csv('/content/CancerDataSet_SVM.csv')  #reading the data \n",
        "cell"
      ],
      "execution_count": 48,
      "outputs": [
        {
          "output_type": "execute_result",
          "data": {
            "text/html": [
              "<div>\n",
              "<style scoped>\n",
              "    .dataframe tbody tr th:only-of-type {\n",
              "        vertical-align: middle;\n",
              "    }\n",
              "\n",
              "    .dataframe tbody tr th {\n",
              "        vertical-align: top;\n",
              "    }\n",
              "\n",
              "    .dataframe thead th {\n",
              "        text-align: right;\n",
              "    }\n",
              "</style>\n",
              "<table border=\"1\" class=\"dataframe\">\n",
              "  <thead>\n",
              "    <tr style=\"text-align: right;\">\n",
              "      <th></th>\n",
              "      <th>ID</th>\n",
              "      <th>Clump</th>\n",
              "      <th>UnifSize</th>\n",
              "      <th>UnifShape</th>\n",
              "      <th>MargAdh</th>\n",
              "      <th>SingEpiSize</th>\n",
              "      <th>BareNuc</th>\n",
              "      <th>BlandChrom</th>\n",
              "      <th>NormNucl</th>\n",
              "      <th>Mit</th>\n",
              "      <th>Class</th>\n",
              "    </tr>\n",
              "  </thead>\n",
              "  <tbody>\n",
              "    <tr>\n",
              "      <th>0</th>\n",
              "      <td>1000025</td>\n",
              "      <td>5</td>\n",
              "      <td>1</td>\n",
              "      <td>1</td>\n",
              "      <td>1</td>\n",
              "      <td>2</td>\n",
              "      <td>1</td>\n",
              "      <td>3</td>\n",
              "      <td>1</td>\n",
              "      <td>1</td>\n",
              "      <td>2</td>\n",
              "    </tr>\n",
              "    <tr>\n",
              "      <th>1</th>\n",
              "      <td>1002945</td>\n",
              "      <td>5</td>\n",
              "      <td>4</td>\n",
              "      <td>4</td>\n",
              "      <td>5</td>\n",
              "      <td>7</td>\n",
              "      <td>10</td>\n",
              "      <td>3</td>\n",
              "      <td>2</td>\n",
              "      <td>1</td>\n",
              "      <td>2</td>\n",
              "    </tr>\n",
              "    <tr>\n",
              "      <th>2</th>\n",
              "      <td>1015425</td>\n",
              "      <td>3</td>\n",
              "      <td>1</td>\n",
              "      <td>1</td>\n",
              "      <td>1</td>\n",
              "      <td>2</td>\n",
              "      <td>2</td>\n",
              "      <td>3</td>\n",
              "      <td>1</td>\n",
              "      <td>1</td>\n",
              "      <td>2</td>\n",
              "    </tr>\n",
              "    <tr>\n",
              "      <th>3</th>\n",
              "      <td>1016277</td>\n",
              "      <td>6</td>\n",
              "      <td>8</td>\n",
              "      <td>8</td>\n",
              "      <td>1</td>\n",
              "      <td>3</td>\n",
              "      <td>4</td>\n",
              "      <td>3</td>\n",
              "      <td>7</td>\n",
              "      <td>1</td>\n",
              "      <td>2</td>\n",
              "    </tr>\n",
              "    <tr>\n",
              "      <th>4</th>\n",
              "      <td>1017023</td>\n",
              "      <td>4</td>\n",
              "      <td>1</td>\n",
              "      <td>1</td>\n",
              "      <td>3</td>\n",
              "      <td>2</td>\n",
              "      <td>1</td>\n",
              "      <td>3</td>\n",
              "      <td>1</td>\n",
              "      <td>1</td>\n",
              "      <td>2</td>\n",
              "    </tr>\n",
              "    <tr>\n",
              "      <th>...</th>\n",
              "      <td>...</td>\n",
              "      <td>...</td>\n",
              "      <td>...</td>\n",
              "      <td>...</td>\n",
              "      <td>...</td>\n",
              "      <td>...</td>\n",
              "      <td>...</td>\n",
              "      <td>...</td>\n",
              "      <td>...</td>\n",
              "      <td>...</td>\n",
              "      <td>...</td>\n",
              "    </tr>\n",
              "    <tr>\n",
              "      <th>694</th>\n",
              "      <td>776715</td>\n",
              "      <td>3</td>\n",
              "      <td>1</td>\n",
              "      <td>1</td>\n",
              "      <td>1</td>\n",
              "      <td>3</td>\n",
              "      <td>2</td>\n",
              "      <td>1</td>\n",
              "      <td>1</td>\n",
              "      <td>1</td>\n",
              "      <td>2</td>\n",
              "    </tr>\n",
              "    <tr>\n",
              "      <th>695</th>\n",
              "      <td>841769</td>\n",
              "      <td>2</td>\n",
              "      <td>1</td>\n",
              "      <td>1</td>\n",
              "      <td>1</td>\n",
              "      <td>2</td>\n",
              "      <td>1</td>\n",
              "      <td>1</td>\n",
              "      <td>1</td>\n",
              "      <td>1</td>\n",
              "      <td>2</td>\n",
              "    </tr>\n",
              "    <tr>\n",
              "      <th>696</th>\n",
              "      <td>888820</td>\n",
              "      <td>5</td>\n",
              "      <td>10</td>\n",
              "      <td>10</td>\n",
              "      <td>3</td>\n",
              "      <td>7</td>\n",
              "      <td>3</td>\n",
              "      <td>8</td>\n",
              "      <td>10</td>\n",
              "      <td>2</td>\n",
              "      <td>4</td>\n",
              "    </tr>\n",
              "    <tr>\n",
              "      <th>697</th>\n",
              "      <td>897471</td>\n",
              "      <td>4</td>\n",
              "      <td>8</td>\n",
              "      <td>6</td>\n",
              "      <td>4</td>\n",
              "      <td>3</td>\n",
              "      <td>4</td>\n",
              "      <td>10</td>\n",
              "      <td>6</td>\n",
              "      <td>1</td>\n",
              "      <td>4</td>\n",
              "    </tr>\n",
              "    <tr>\n",
              "      <th>698</th>\n",
              "      <td>897471</td>\n",
              "      <td>4</td>\n",
              "      <td>8</td>\n",
              "      <td>8</td>\n",
              "      <td>5</td>\n",
              "      <td>4</td>\n",
              "      <td>5</td>\n",
              "      <td>10</td>\n",
              "      <td>4</td>\n",
              "      <td>1</td>\n",
              "      <td>4</td>\n",
              "    </tr>\n",
              "  </tbody>\n",
              "</table>\n",
              "<p>699 rows × 11 columns</p>\n",
              "</div>"
            ],
            "text/plain": [
              "          ID  Clump  UnifSize  UnifShape  ...  BlandChrom  NormNucl Mit  Class\n",
              "0    1000025      5         1          1  ...           3         1   1      2\n",
              "1    1002945      5         4          4  ...           3         2   1      2\n",
              "2    1015425      3         1          1  ...           3         1   1      2\n",
              "3    1016277      6         8          8  ...           3         7   1      2\n",
              "4    1017023      4         1          1  ...           3         1   1      2\n",
              "..       ...    ...       ...        ...  ...         ...       ...  ..    ...\n",
              "694   776715      3         1          1  ...           1         1   1      2\n",
              "695   841769      2         1          1  ...           1         1   1      2\n",
              "696   888820      5        10         10  ...           8        10   2      4\n",
              "697   897471      4         8          6  ...          10         6   1      4\n",
              "698   897471      4         8          8  ...          10         4   1      4\n",
              "\n",
              "[699 rows x 11 columns]"
            ]
          },
          "metadata": {
            "tags": []
          },
          "execution_count": 48
        }
      ]
    },
    {
      "cell_type": "code",
      "metadata": {
        "colab": {
          "base_uri": "https://localhost:8080/"
        },
        "id": "VXR33lV8A1H9",
        "outputId": "fbf5a356-aa4b-49e1-aaf9-039c59e4968f"
      },
      "source": [
        "cell.info  #for the information of the data"
      ],
      "execution_count": 49,
      "outputs": [
        {
          "output_type": "execute_result",
          "data": {
            "text/plain": [
              "<bound method DataFrame.info of           ID  Clump  UnifSize  UnifShape  ...  BlandChrom  NormNucl Mit  Class\n",
              "0    1000025      5         1          1  ...           3         1   1      2\n",
              "1    1002945      5         4          4  ...           3         2   1      2\n",
              "2    1015425      3         1          1  ...           3         1   1      2\n",
              "3    1016277      6         8          8  ...           3         7   1      2\n",
              "4    1017023      4         1          1  ...           3         1   1      2\n",
              "..       ...    ...       ...        ...  ...         ...       ...  ..    ...\n",
              "694   776715      3         1          1  ...           1         1   1      2\n",
              "695   841769      2         1          1  ...           1         1   1      2\n",
              "696   888820      5        10         10  ...           8        10   2      4\n",
              "697   897471      4         8          6  ...          10         6   1      4\n",
              "698   897471      4         8          8  ...          10         4   1      4\n",
              "\n",
              "[699 rows x 11 columns]>"
            ]
          },
          "metadata": {
            "tags": []
          },
          "execution_count": 49
        }
      ]
    },
    {
      "cell_type": "code",
      "metadata": {
        "colab": {
          "base_uri": "https://localhost:8080/",
          "height": 224
        },
        "id": "rERMKru1BXLQ",
        "outputId": "6b04949d-086e-4290-a3f1-91788cf05d9b"
      },
      "source": [
        "cell.head()  "
      ],
      "execution_count": 50,
      "outputs": [
        {
          "output_type": "execute_result",
          "data": {
            "text/html": [
              "<div>\n",
              "<style scoped>\n",
              "    .dataframe tbody tr th:only-of-type {\n",
              "        vertical-align: middle;\n",
              "    }\n",
              "\n",
              "    .dataframe tbody tr th {\n",
              "        vertical-align: top;\n",
              "    }\n",
              "\n",
              "    .dataframe thead th {\n",
              "        text-align: right;\n",
              "    }\n",
              "</style>\n",
              "<table border=\"1\" class=\"dataframe\">\n",
              "  <thead>\n",
              "    <tr style=\"text-align: right;\">\n",
              "      <th></th>\n",
              "      <th>ID</th>\n",
              "      <th>Clump</th>\n",
              "      <th>UnifSize</th>\n",
              "      <th>UnifShape</th>\n",
              "      <th>MargAdh</th>\n",
              "      <th>SingEpiSize</th>\n",
              "      <th>BareNuc</th>\n",
              "      <th>BlandChrom</th>\n",
              "      <th>NormNucl</th>\n",
              "      <th>Mit</th>\n",
              "      <th>Class</th>\n",
              "    </tr>\n",
              "  </thead>\n",
              "  <tbody>\n",
              "    <tr>\n",
              "      <th>0</th>\n",
              "      <td>1000025</td>\n",
              "      <td>5</td>\n",
              "      <td>1</td>\n",
              "      <td>1</td>\n",
              "      <td>1</td>\n",
              "      <td>2</td>\n",
              "      <td>1</td>\n",
              "      <td>3</td>\n",
              "      <td>1</td>\n",
              "      <td>1</td>\n",
              "      <td>2</td>\n",
              "    </tr>\n",
              "    <tr>\n",
              "      <th>1</th>\n",
              "      <td>1002945</td>\n",
              "      <td>5</td>\n",
              "      <td>4</td>\n",
              "      <td>4</td>\n",
              "      <td>5</td>\n",
              "      <td>7</td>\n",
              "      <td>10</td>\n",
              "      <td>3</td>\n",
              "      <td>2</td>\n",
              "      <td>1</td>\n",
              "      <td>2</td>\n",
              "    </tr>\n",
              "    <tr>\n",
              "      <th>2</th>\n",
              "      <td>1015425</td>\n",
              "      <td>3</td>\n",
              "      <td>1</td>\n",
              "      <td>1</td>\n",
              "      <td>1</td>\n",
              "      <td>2</td>\n",
              "      <td>2</td>\n",
              "      <td>3</td>\n",
              "      <td>1</td>\n",
              "      <td>1</td>\n",
              "      <td>2</td>\n",
              "    </tr>\n",
              "    <tr>\n",
              "      <th>3</th>\n",
              "      <td>1016277</td>\n",
              "      <td>6</td>\n",
              "      <td>8</td>\n",
              "      <td>8</td>\n",
              "      <td>1</td>\n",
              "      <td>3</td>\n",
              "      <td>4</td>\n",
              "      <td>3</td>\n",
              "      <td>7</td>\n",
              "      <td>1</td>\n",
              "      <td>2</td>\n",
              "    </tr>\n",
              "    <tr>\n",
              "      <th>4</th>\n",
              "      <td>1017023</td>\n",
              "      <td>4</td>\n",
              "      <td>1</td>\n",
              "      <td>1</td>\n",
              "      <td>3</td>\n",
              "      <td>2</td>\n",
              "      <td>1</td>\n",
              "      <td>3</td>\n",
              "      <td>1</td>\n",
              "      <td>1</td>\n",
              "      <td>2</td>\n",
              "    </tr>\n",
              "  </tbody>\n",
              "</table>\n",
              "</div>"
            ],
            "text/plain": [
              "        ID  Clump  UnifSize  UnifShape  ...  BlandChrom  NormNucl Mit  Class\n",
              "0  1000025      5         1          1  ...           3         1   1      2\n",
              "1  1002945      5         4          4  ...           3         2   1      2\n",
              "2  1015425      3         1          1  ...           3         1   1      2\n",
              "3  1016277      6         8          8  ...           3         7   1      2\n",
              "4  1017023      4         1          1  ...           3         1   1      2\n",
              "\n",
              "[5 rows x 11 columns]"
            ]
          },
          "metadata": {
            "tags": []
          },
          "execution_count": 50
        }
      ]
    },
    {
      "cell_type": "code",
      "metadata": {
        "colab": {
          "base_uri": "https://localhost:8080/"
        },
        "id": "hM2LSJDROiia",
        "outputId": "9e82a43e-b461-4c17-d5de-94e4e106971b"
      },
      "source": [
        "cell.describe"
      ],
      "execution_count": 108,
      "outputs": [
        {
          "output_type": "execute_result",
          "data": {
            "text/plain": [
              "<bound method NDFrame.describe of           ID  Clump  UnifSize  UnifShape  ...  BlandChrom  NormNucl  Mit  Class\n",
              "0    1000025      5         1          1  ...           3         1    1      2\n",
              "1    1002945      5         4          4  ...           3         2    1      2\n",
              "2    1015425      3         1          1  ...           3         1    1      2\n",
              "3    1016277      6         8          8  ...           3         7    1      2\n",
              "4    1017023      4         1          1  ...           3         1    1      2\n",
              "..       ...    ...       ...        ...  ...         ...       ...  ...    ...\n",
              "694   776715      3         1          1  ...           1         1    1      2\n",
              "695   841769      2         1          1  ...           1         1    1      2\n",
              "696   888820      5        10         10  ...           8        10    2      4\n",
              "697   897471      4         8          6  ...          10         6    1      4\n",
              "698   897471      4         8          8  ...          10         4    1      4\n",
              "\n",
              "[683 rows x 11 columns]>"
            ]
          },
          "metadata": {
            "tags": []
          },
          "execution_count": 108
        }
      ]
    },
    {
      "cell_type": "code",
      "metadata": {
        "colab": {
          "base_uri": "https://localhost:8080/",
          "height": 607
        },
        "id": "Oihaq0LGOtMp",
        "outputId": "27acda42-9327-4585-db70-f2636be4e3e1"
      },
      "source": [
        "#For the visualization of the data \n",
        "cell.hist(figsize=(10,10))\n",
        "plt.show()"
      ],
      "execution_count": 109,
      "outputs": [
        {
          "output_type": "display_data",
          "data": {
            "image/png": "[encoded data removed]",
            "text/plain": [
              "<Figure size 720x720 with 12 Axes>"
            ]
          },
          "metadata": {
            "tags": [],
            "needs_background": "light"
          }
        }
      ]
    },
    {
      "cell_type": "code",
      "metadata": {
        "colab": {
          "base_uri": "https://localhost:8080/",
          "height": 386
        },
        "id": "LY8aa8NLO6Y_",
        "outputId": "7a669cae-6582-4310-8ea2-323dc086d9c9"
      },
      "source": [
        "sns.displot(cell[\"Class\"])"
      ],
      "execution_count": 110,
      "outputs": [
        {
          "output_type": "execute_result",
          "data": {
            "text/plain": [
              "<seaborn.axisgrid.FacetGrid at 0x7f524bcf6750>"
            ]
          },
          "metadata": {
            "tags": []
          },
          "execution_count": 110
        },
        {
          "output_type": "display_data",
          "data": {
            "image/png": "[encoded data removed]",
            "text/plain": [
              "<Figure size 360x360 with 1 Axes>"
            ]
          },
          "metadata": {
            "tags": [],
            "needs_background": "light"
          }
        }
      ]
    },
    {
      "cell_type": "code",
      "metadata": {
        "colab": {
          "base_uri": "https://localhost:8080/"
        },
        "id": "fYJvNRLiBYFq",
        "outputId": "2405a09f-7313-4131-8bfb-c4d4ff0df45d"
      },
      "source": [
        "cell['Class'].value_counts()  #How many there are Malignant & Benign "
      ],
      "execution_count": 51,
      "outputs": [
        {
          "output_type": "execute_result",
          "data": {
            "text/plain": [
              "2    458\n",
              "4    241\n",
              "Name: Class, dtype: int64"
            ]
          },
          "metadata": {
            "tags": []
          },
          "execution_count": 51
        }
      ]
    },
    {
      "cell_type": "code",
      "metadata": {
        "id": "gwx3h9ZmBy-_"
      },
      "source": [
        "#For the distribution of the Classes\n",
        "malignant=cell[cell['Class']==4][0:200]\n",
        "benign=cell[cell['Class']==2][0:200]"
      ],
      "execution_count": 52,
      "outputs": []
    },
    {
      "cell_type": "code",
      "metadata": {
        "id": "tncDHb_SDO-n"
      },
      "source": [
        "#help(malignant.plot)\n"
      ],
      "execution_count": 53,
      "outputs": []
    },
    {
      "cell_type": "code",
      "metadata": {
        "colab": {
          "base_uri": "https://localhost:8080/",
          "height": 296
        },
        "id": "XIlubEu_DQfz",
        "outputId": "d235d7e5-5e69-49f4-ebe9-4f7d2c15261d"
      },
      "source": [
        "#both benign and malignant are dotted here\n",
        "axes=benign.plot(kind='scatter',x='Clump',y='UnifSize',color='red',label='Benign')\n",
        "malignant.plot(kind='scatter',x='Clump',y='UnifSize',color='Black',label='Malignant',ax=axes)"
      ],
      "execution_count": 54,
      "outputs": [
        {
          "output_type": "execute_result",
          "data": {
            "text/plain": [
              "<matplotlib.axes._subplots.AxesSubplot at 0x7f526261aa10>"
            ]
          },
          "metadata": {
            "tags": []
          },
          "execution_count": 54
        },
        {
          "output_type": "display_data",
          "data": {
            "image/png": "[encoded data removed]",
            "text/plain": [
              "<Figure size 432x288 with 1 Axes>"
            ]
          },
          "metadata": {
            "tags": [],
            "needs_background": "light"
          }
        }
      ]
    },
    {
      "cell_type": "code",
      "metadata": {
        "colab": {
          "base_uri": "https://localhost:8080/"
        },
        "id": "9uxHykqmEbIC",
        "outputId": "fed957c3-e935-4597-da69-100d0211ffc0"
      },
      "source": [
        "#identifying the unwanted rows\n",
        "cell.dtypes"
      ],
      "execution_count": 57,
      "outputs": [
        {
          "output_type": "execute_result",
          "data": {
            "text/plain": [
              "ID              int64\n",
              "Clump           int64\n",
              "UnifSize        int64\n",
              "UnifShape       int64\n",
              "MargAdh         int64\n",
              "SingEpiSize     int64\n",
              "BareNuc        object\n",
              "BlandChrom      int64\n",
              "NormNucl        int64\n",
              "Mit             int64\n",
              "Class           int64\n",
              "dtype: object"
            ]
          },
          "metadata": {
            "tags": []
          },
          "execution_count": 57
        }
      ]
    },
    {
      "cell_type": "code",
      "metadata": {
        "colab": {
          "base_uri": "https://localhost:8080/"
        },
        "id": "bmn_K69YGXUM",
        "outputId": "fb584a9e-cc10-4d7a-ea22-1a2c20cab39e"
      },
      "source": [
        "cell=cell[pd.to_numeric(cell['BareNuc'],errors='coerce').notnull()]\n",
        "cell['BareNuc']=cell['BareNuc'].astype('int')\n",
        "cell.dtypes"
      ],
      "execution_count": 63,
      "outputs": [
        {
          "output_type": "execute_result",
          "data": {
            "text/plain": [
              "ID             int64\n",
              "Clump          int64\n",
              "UnifSize       int64\n",
              "UnifShape      int64\n",
              "MargAdh        int64\n",
              "SingEpiSize    int64\n",
              "BareNuc        int64\n",
              "BlandChrom     int64\n",
              "NormNucl       int64\n",
              "Mit            int64\n",
              "Class          int64\n",
              "dtype: object"
            ]
          },
          "metadata": {
            "tags": []
          },
          "execution_count": 63
        }
      ]
    },
    {
      "cell_type": "code",
      "metadata": {
        "colab": {
          "base_uri": "https://localhost:8080/"
        },
        "id": "J3m99CavHkm-",
        "outputId": "db9cd9d9-a554-443c-91cc-2e6c23788c82"
      },
      "source": [
        "#remove unwanted columns\n",
        "cell.columns\n",
        "feature= cell[['ID','Clump','UnifSize','UnifShape','MargAdh','SingEpiSize','BareNuc','BlandChrom','NormNucl','Mit','Class']]\n",
        "X=np.asarray(feature)\n",
        "y=np.asarray(cell['Class'])\n",
        "X[0:5]\n",
        "#y[0:5]\n"
      ],
      "execution_count": 77,
      "outputs": [
        {
          "output_type": "execute_result",
          "data": {
            "text/plain": [
              "array([[1000025,       5,       1,       1,       1,       2,       1,\n",
              "              3,       1,       1,       2],\n",
              "       [1002945,       5,       4,       4,       5,       7,      10,\n",
              "              3,       2,       1,       2],\n",
              "       [1015425,       3,       1,       1,       1,       2,       2,\n",
              "              3,       1,       1,       2],\n",
              "       [1016277,       6,       8,       8,       1,       3,       4,\n",
              "              3,       7,       1,       2],\n",
              "       [1017023,       4,       1,       1,       3,       2,       1,\n",
              "              3,       1,       1,       2]])"
            ]
          },
          "metadata": {
            "tags": []
          },
          "execution_count": 77
        }
      ]
    },
    {
      "cell_type": "code",
      "metadata": {
        "id": "YmMTVENeI31x"
      },
      "source": [
        "#Diving the entire data as Train/Test part\n",
        "from sklearn.model_selection import train_test_split\n",
        "X_train,x_test,y_train,y_test= train_test_split(X,y,test_size=0.2,random_state=4) "
      ],
      "execution_count": 83,
      "outputs": []
    },
    {
      "cell_type": "code",
      "metadata": {
        "colab": {
          "base_uri": "https://localhost:8080/"
        },
        "id": "zG_pb1KcKaPb",
        "outputId": "59c217ed-9005-4636-d392-5348149cb4f7"
      },
      "source": [
        "X_train.shape\n",
        "#y_train.shape"
      ],
      "execution_count": 86,
      "outputs": [
        {
          "output_type": "execute_result",
          "data": {
            "text/plain": [
              "(546, 11)"
            ]
          },
          "metadata": {
            "tags": []
          },
          "execution_count": 86
        }
      ]
    },
    {
      "cell_type": "code",
      "metadata": {
        "colab": {
          "base_uri": "https://localhost:8080/"
        },
        "id": "HIsHi-CXK2FZ",
        "outputId": "ddb94cdf-44a5-443a-8774-04bb5ae8f864"
      },
      "source": [
        "x_test.shape\n",
        "#y_train.shape"
      ],
      "execution_count": 87,
      "outputs": [
        {
          "output_type": "execute_result",
          "data": {
            "text/plain": [
              "(137, 11)"
            ]
          },
          "metadata": {
            "tags": []
          },
          "execution_count": 87
        }
      ]
    },
    {
      "cell_type": "code",
      "metadata": {
        "colab": {
          "base_uri": "https://localhost:8080/"
        },
        "id": "QmWZUpFfLS28",
        "outputId": "ea28b97b-19bf-409e-9ee4-810e65407f29"
      },
      "source": [
        "#Modeling SVM with scikit_learn\n",
        "from sklearn import svm\n",
        "model=svm.SVC(kernel='linear',gamma='auto',C=2)\n",
        "model.fit(X_train,y_train)"
      ],
      "execution_count": 101,
      "outputs": [
        {
          "output_type": "execute_result",
          "data": {
            "text/plain": [
              "SVC(C=2, break_ties=False, cache_size=200, class_weight=None, coef0=0.0,\n",
              "    decision_function_shape='ovr', degree=3, gamma='auto', kernel='linear',\n",
              "    max_iter=-1, probability=False, random_state=None, shrinking=True,\n",
              "    tol=0.001, verbose=False)"
            ]
          },
          "metadata": {
            "tags": []
          },
          "execution_count": 101
        }
      ]
    },
    {
      "cell_type": "code",
      "metadata": {
        "id": "2cP7qWCBMJtG"
      },
      "source": [
        "y_predict = model.predict(x_test)"
      ],
      "execution_count": 104,
      "outputs": []
    },
    {
      "cell_type": "code",
      "metadata": {
        "colab": {
          "base_uri": "https://localhost:8080/"
        },
        "id": "9RtWTMICMUPF",
        "outputId": "7d00b94e-ec8e-4984-8d14-9c3cbf36a370"
      },
      "source": [
        "#evalutioin or Results\n",
        "from sklearn.metrics import classification_report\n",
        "print(classification_report(y_test,y_predict))"
      ],
      "execution_count": 105,
      "outputs": [
        {
          "output_type": "stream",
          "text": [
            "              precision    recall  f1-score   support\n",
            "\n",
            "           2       0.68      0.99      0.81        90\n",
            "           4       0.83      0.11      0.19        47\n",
            "\n",
            "    accuracy                           0.69       137\n",
            "   macro avg       0.76      0.55      0.50       137\n",
            "weighted avg       0.73      0.69      0.59       137\n",
            "\n"
          ],
          "name": "stdout"
        }
      ]
    },
    {
      "cell_type": "code",
      "metadata": {
        "id": "BPC-SqVnMvFF"
      },
      "source": [
        ""
      ],
      "execution_count": null,
      "outputs": []
    }
  ]
}